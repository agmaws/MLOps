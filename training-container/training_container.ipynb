{
 "cells": [
  {
   "cell_type": "markdown",
   "id": "01dcb8d8",
   "metadata": {},
   "source": [
    "## Build the Training container for fastai \n",
    "\n",
    "In this notebook, we will build the inference container that can be used for both Batch Transform and End point"
   ]
  },
  {
   "cell_type": "code",
   "execution_count": null,
   "id": "b1a867a7",
   "metadata": {},
   "outputs": [],
   "source": [
    "#change permission on executable files \n",
    "!chmod +x code/*"
   ]
  },
  {
   "cell_type": "markdown",
   "id": "4deee6e6",
   "metadata": {},
   "source": [
    "Build the container locally"
   ]
  },
  {
   "cell_type": "code",
   "execution_count": null,
   "id": "ba1e2519",
   "metadata": {
    "tags": []
   },
   "outputs": [],
   "source": [
    "!docker build -t fastai ."
   ]
  },
  {
   "cell_type": "code",
   "execution_count": null,
   "id": "92a2967b",
   "metadata": {
    "tags": []
   },
   "outputs": [],
   "source": [
    "!docker images"
   ]
  },
  {
   "cell_type": "markdown",
   "id": "28cba060",
   "metadata": {},
   "source": [
    "Authenticate to ECR using boto3 and set names for tags and ecr repository"
   ]
  },
  {
   "cell_type": "code",
   "execution_count": null,
   "id": "c966ec52",
   "metadata": {},
   "outputs": [],
   "source": [
    "import boto3\n",
    "import sagemaker\n",
    "\n",
    "ecr_namespace = \"sagemaker-training-containers/\"\n",
    "prefix = \"script-mode-container-fastai\"\n",
    "\n",
    "role = sagemaker.get_execution_role()\n",
    "ecr_repository_name = ecr_namespace + prefix\n",
    "account_id = role.split(\":\")[4]\n",
    "region = boto3.Session().region_name\n",
    "tag_name=account_id+'.dkr.ecr.'+region+'.amazonaws.com/'+ecr_repository_name+':latest'"
   ]
  },
  {
   "cell_type": "markdown",
   "id": "fcbbbf45",
   "metadata": {},
   "source": [
    "tag with ecr repository"
   ]
  },
  {
   "cell_type": "code",
   "execution_count": null,
   "id": "a0e09cee",
   "metadata": {},
   "outputs": [],
   "source": [
    "!docker tag fastai $tag_name"
   ]
  },
  {
   "cell_type": "markdown",
   "id": "4adb2d34",
   "metadata": {},
   "source": [
    "Create a ECR repo, if it already exists, you will get an error and you can ignore it "
   ]
  },
  {
   "cell_type": "markdown",
   "id": "9e96fc9c",
   "metadata": {},
   "source": [
    "Authenticate into ECR "
   ]
  },
  {
   "cell_type": "code",
   "execution_count": null,
   "id": "08c1bc31",
   "metadata": {},
   "outputs": [],
   "source": [
    "!$(aws ecr get-login --no-include-email)"
   ]
  },
  {
   "cell_type": "code",
   "execution_count": null,
   "id": "340eaac6",
   "metadata": {
    "tags": []
   },
   "outputs": [],
   "source": [
    "!aws ecr create-repository --repository-name $ecr_repository_name"
   ]
  },
  {
   "cell_type": "markdown",
   "id": "6d2b804b",
   "metadata": {},
   "source": [
    "Push the local image to ECR"
   ]
  },
  {
   "cell_type": "code",
   "execution_count": null,
   "id": "15f04a85",
   "metadata": {
    "tags": []
   },
   "outputs": [],
   "source": [
    "!docker push $tag_name"
   ]
  },
  {
   "cell_type": "code",
   "execution_count": null,
   "id": "55f74482",
   "metadata": {},
   "outputs": [],
   "source": [
    "tag_name"
   ]
  }
 ],
 "metadata": {
  "kernelspec": {
   "display_name": "conda_python3",
   "language": "python",
   "name": "conda_python3"
  },
  "language_info": {
   "codemirror_mode": {
    "name": "ipython",
    "version": 3
   },
   "file_extension": ".py",
   "mimetype": "text/x-python",
   "name": "python",
   "nbconvert_exporter": "python",
   "pygments_lexer": "ipython3",
   "version": "3.8.12"
  }
 },
 "nbformat": 4,
 "nbformat_minor": 5
}
