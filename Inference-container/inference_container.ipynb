{
 "cells": [
  {
   "cell_type": "markdown",
   "id": "fdb95841",
   "metadata": {},
   "source": [
    "## Build the Inference container for fastai \n",
    "\n",
    "In this notebook, we will build the inference container that can be used for both Batch Transform and End point"
   ]
  },
  {
   "cell_type": "code",
   "execution_count": null,
   "id": "de0e1faf",
   "metadata": {},
   "outputs": [],
   "source": [
    "#change permission on executable files \n",
    "!chmod +x code/*"
   ]
  },
  {
   "cell_type": "markdown",
   "id": "4c91755f",
   "metadata": {},
   "source": [
    "Build the container locally"
   ]
  },
  {
   "cell_type": "code",
   "execution_count": null,
   "id": "f54da3fc",
   "metadata": {
    "tags": []
   },
   "outputs": [],
   "source": [
    "!docker build -t fastaiinf ."
   ]
  },
  {
   "cell_type": "code",
   "execution_count": null,
   "id": "2a88ef60",
   "metadata": {
    "tags": []
   },
   "outputs": [],
   "source": [
    "!docker images"
   ]
  },
  {
   "cell_type": "markdown",
   "id": "c7d104c2",
   "metadata": {},
   "source": [
    "Authenticate to ECR using boto3 and set names for tags and ecr repository"
   ]
  },
  {
   "cell_type": "code",
   "execution_count": null,
   "id": "db825886",
   "metadata": {},
   "outputs": [],
   "source": [
    "import boto3\n",
    "import sagemaker\n",
    "\n",
    "role = sagemaker.get_execution_role()\n",
    "ecr_namespace = \"sagemaker-inference-containers/\"\n",
    "prefix = \"script-mode-container-fastai\"\n",
    "\n",
    "ecr_repository_name = ecr_namespace + prefix\n",
    "account_id = role.split(\":\")[4]\n",
    "region = boto3.Session().region_name\n",
    "tag_name=account_id+'.dkr.ecr.'+region+'.amazonaws.com/'+ecr_repository_name+':latest'"
   ]
  },
  {
   "cell_type": "markdown",
   "id": "35cd63ed",
   "metadata": {},
   "source": [
    "tag with ecr repository"
   ]
  },
  {
   "cell_type": "code",
   "execution_count": null,
   "id": "0db26955",
   "metadata": {},
   "outputs": [],
   "source": [
    "!docker tag fastaiinf $tag_name"
   ]
  },
  {
   "cell_type": "markdown",
   "id": "49c211a1",
   "metadata": {},
   "source": [
    "Create a ECR repo, if it already exists, you will get an error and you can ignore it "
   ]
  },
  {
   "cell_type": "markdown",
   "id": "141116c6",
   "metadata": {},
   "source": [
    "Authenticate into ECR "
   ]
  },
  {
   "cell_type": "code",
   "execution_count": null,
   "id": "8580041d",
   "metadata": {},
   "outputs": [],
   "source": [
    "!$(aws ecr get-login --no-include-email)"
   ]
  },
  {
   "cell_type": "code",
   "execution_count": null,
   "id": "6a441e4e",
   "metadata": {
    "tags": []
   },
   "outputs": [],
   "source": [
    "!aws ecr create-repository --repository-name $ecr_repository_name"
   ]
  },
  {
   "cell_type": "markdown",
   "id": "7557a620",
   "metadata": {},
   "source": [
    "Push the local image to ECR"
   ]
  },
  {
   "cell_type": "code",
   "execution_count": null,
   "id": "391aec84",
   "metadata": {
    "tags": []
   },
   "outputs": [],
   "source": [
    "!docker push $tag_name"
   ]
  },
  {
   "cell_type": "code",
   "execution_count": null,
   "id": "86de023b",
   "metadata": {},
   "outputs": [],
   "source": [
    "tag_name"
   ]
  }
 ],
 "metadata": {
  "kernelspec": {
   "display_name": "conda_python3",
   "language": "python",
   "name": "conda_python3"
  },
  "language_info": {
   "codemirror_mode": {
    "name": "ipython",
    "version": 3
   },
   "file_extension": ".py",
   "mimetype": "text/x-python",
   "name": "python",
   "nbconvert_exporter": "python",
   "pygments_lexer": "ipython3",
   "version": "3.8.12"
  }
 },
 "nbformat": 4,
 "nbformat_minor": 5
}
